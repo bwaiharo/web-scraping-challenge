{
 "cells": [
  {
   "cell_type": "code",
   "execution_count": 21,
   "metadata": {},
   "outputs": [],
   "source": [
    "# Dependencies\n",
    "import sys\n",
    "sys.path.append('C:/Program Files/Python36/Lib/site-packages/')\n",
    "from bs4 import BeautifulSoup\n",
    "import requests\n",
    "from splinter import Browser\n",
    "import pandas as pd\n"
   ]
  },
  {
   "cell_type": "code",
   "execution_count": 27,
   "metadata": {},
   "outputs": [],
   "source": [
    "executable_path = {'executable_path': 'chromedriver'}\n",
    "browser = Browser('chrome', **executable_path, headless=False)"
   ]
  },
  {
   "cell_type": "code",
   "execution_count": 28,
   "metadata": {},
   "outputs": [],
   "source": [
    "# NASA Mars News\n",
    "# URL of page to be scraped\n",
    "url = 'https://mars.nasa.gov/news/?page=0&per_page=40&order=publish_date+desc%2Ccreated_at+desc&search=&category=19%2C165%2C184%2C204&blank_scope=Latest'"
   ]
  },
  {
   "cell_type": "code",
   "execution_count": 29,
   "metadata": {},
   "outputs": [],
   "source": [
    "browser.visit(url)"
   ]
  },
  {
   "cell_type": "code",
   "execution_count": 31,
   "metadata": {},
   "outputs": [
    {
     "name": "stdout",
     "output_type": "stream",
     "text": [
      "page: 0 -------------\n",
      "Title : NASA's Mars 2020 Heads Into the Test Chamber\n",
      "Paragraph : In this time-lapse video taken at JPL, engineers move the Mars 2020 rover into a large vacuum chamber for testing in Mars-like environmental conditions.\n",
      "Date : November  7, 2019\n",
      "page: 0 -------------\n",
      "Title : Screening Soon: 'The Pathfinders' Trains Lens on Mars\n",
      "Paragraph : With the Mars 2020 mission ramping up, the documentary — the first of four about past JPL missions to the Red Planet to be shown at Caltech — tells a gripping backstory.\n",
      "Date : November  7, 2019\n",
      "page: 0 -------------\n",
      "Title : InSight's 'Mole' Team Peers into the Pit\n",
      "Paragraph : Efforts to save the heat probe continue.\n",
      "Date : November  6, 2019\n",
      "page: 0 -------------\n",
      "Title : Common Questions about InSight's 'Mole'\n",
      "Paragraph : There's a new plan to get InSight's \"mole\" moving again. The following Q&As with two members of the team answer some of the most common questions about the burrowing device, part of a science instrument called the Heat Flow and Physical Properties Package (HP3).\n",
      "Date : November  6, 2019\n",
      "page: 0 -------------\n",
      "Title : Mars 2020 Stands on Its Own Six Wheels\n",
      "Paragraph : In time-lapse video, taken at JPL, captures the first time NASA's Mars 2020 rover carries its full weight on its legs and wheels.\n",
      "Date : October 24, 2019\n",
      "page: 0 -------------\n",
      "Title : New Selfie Shows Curiosity, the Mars Chemist\n",
      "Paragraph : The NASA rover performed a special chemistry experiment at the location captured in its newest self-portrait.\n",
      "Date : October 24, 2019\n",
      "page: 0 -------------\n",
      "Title : Naming a NASA Mars Rover Can Change Your Life\n",
      "Paragraph : Want to name the robotic scientist NASA is sending to Mars in 2020? The student who named Curiosity — the rover currently exploring Mars — will tell you this is an opportunity worth taking.\n",
      "Date : October 22, 2019\n",
      "page: 0 -------------\n",
      "Title : Mars 2020 Unwrapped and Ready for More Testing\n",
      "Paragraph : In time-lapse video, bunny-suited engineers remove the inner layer of protective foil on NASA's Mars 2020 rover after it was relocated for testing.\n",
      "Date : October 18, 2019\n",
      "page: 0 -------------\n",
      "Title : HiRISE Views NASA's InSight and Curiosity on Mars\n",
      "Paragraph : New images taken from space offer the clearest orbital glimpse yet of InSight as well as a view of Curiosity rolling along.\n",
      "Date : October 16, 2019\n",
      "page: 0 -------------\n",
      "Title : NASA's Curiosity Rover Finds an Ancient Oasis on Mars\n",
      "Paragraph : New evidence suggests salty, shallow ponds once dotted a Martian crater — a sign of the planet's drying climate.\n",
      "Date : October  7, 2019\n",
      "page: 0 -------------\n",
      "Title : NASA's Mars 2020 Rover Tests Descent-Stage Separation\n",
      "Paragraph : A crane lifts the rocket-powered descent stage away from NASA's Mars 2020 rover after technicians tested the pyrotechnic charges that separate the two spacecraft.\n",
      "Date : October  4, 2019\n",
      "page: 0 -------------\n",
      "Title : NASA's Push to Save the Mars InSight Lander's Heat Probe\n",
      "Paragraph : The scoop on the end of the spacecraft's robotic arm will be used to 'pin' the mole against the wall of its hole.\n",
      "Date : October  3, 2019\n",
      "page: 0 -------------\n",
      "Title : NASA's InSight 'Hears' Peculiar Sounds on Mars\n",
      "Paragraph : Listen to the marsquakes and other, less-expected sounds that the Mars lander has been detecting.\n",
      "Date : October  1, 2019\n",
      "page: 0 -------------\n",
      "Title : NASA Mars Mission Connects With Bosnian and Herzegovinian Town\n",
      "Paragraph : A letter from NASA was presented to the mayor of Jezero, Bosnia-Herzegovina, honoring the connection between the town and Jezero Crater, the Mars 2020 rover landing site.\n",
      "Date : September 23, 2019\n",
      "page: 0 -------------\n",
      "Title : Deadline Closing for Names to Fly on NASA's Next Mars Rover\n",
      "Paragraph : You have until Sept. 30 to send your names to Mars aboard the Mars 2020 rover. \n",
      "Date : September 18, 2019\n",
      "page: 0 -------------\n",
      "Title : NASA Wins Two Emmy Awards for Interactive Mission Coverage\n",
      "Paragraph : NASA-JPL's coverage of the Mars InSight landing earns one of the two wins, making this the NASA center's second Emmy.\n",
      "Date : September 16, 2019\n",
      "page: 0 -------------\n",
      "Title : NASA's Mars 2020 Comes Full Circle\n",
      "Paragraph : Aiming to pinpoint the Martian vehicle's center of gravity, engineers took NASA's 2,300-pound Mars 2020 rover for a spin in the clean room at JPL. \n",
      "Date : September 12, 2019\n",
      "page: 0 -------------\n",
      "Title : NASA Invites Students to Name Mars 2020 Rover\n",
      "Paragraph : Through Nov. 1, K-12 students in the U.S. are encouraged to enter an essay contest to name NASA's next Mars rover.\n",
      "Date : August 28, 2019\n",
      "page: 0 -------------\n",
      "Title : NASA's Mars Helicopter Attached to Mars 2020 Rover \n",
      "Paragraph : The helicopter will be first aircraft to perform flight tests on another planet.\n",
      "Date : August 28, 2019\n",
      "page: 0 -------------\n",
      "Title : What's Mars Solar Conjunction, and Why Does It Matter?\n",
      "Paragraph : NASA spacecraft at Mars are going to be on their own for a few weeks when the Sun comes between Mars and Earth, interrupting communications.\n",
      "Date : August 23, 2019\n",
      "page: 0 -------------\n",
      "Title : Scientists Explore Outback as Testbed for Mars \n",
      "Paragraph : Australia provides a great place for NASA's Mars 2020 and the ESA-Roscosmos ExoMars scientists to hone techniques in preparation for searching for signs ancient life on Mars.\n",
      "Date : August 23, 2019\n",
      "page: 0 -------------\n",
      "Title : NASA-JPL Names 'Rolling Stones Rock' on Mars\n",
      "Paragraph : NASA's Mars InSight mission honored one of the biggest bands of all time at Pasadena concert.\n",
      "Date : August 22, 2019\n",
      "page: 0 -------------\n",
      "Title : Robotic Toolkit Added to NASA's Mars 2020 Rover\n",
      "Paragraph : The bit carousel, which lies at the heart of the rover's Sample Caching System, is now aboard NASA's newest rover. \n",
      "Date : August 15, 2019\n",
      "page: 0 -------------\n",
      "Title : Space Samples Link NASA's Apollo 11 and Mars 2020\n",
      "Paragraph : While separated by half a century, NASA's Apollo 11 and Mars 2020 missions share the same historic goal: returning samples to Earth.\n",
      "Date : August 13, 2019\n",
      "page: 0 -------------\n",
      "Title : Small Satellite Mission of the Year\n",
      "Paragraph : The first interplanetary CubeSats were recognized by the engineering community with the 2019 Small Satellite Mission of the Year award.\n",
      "Date : August  9, 2019\n",
      "page: 0 -------------\n",
      "Title : NASA 'Optometrists' Verify Mars 2020 Rover's 20/20 Vision\n",
      "Paragraph : Mars 2020 rover underwent an eye exam after several cameras were installed on the rover.\n",
      "Date : August  5, 2019\n",
      "page: 0 -------------\n",
      "Title : New Finds for Mars Rover, Seven Years After Landing\n",
      "Paragraph : NASA's Curiosity rover is discovering odd rocks halfway into a region called the \"clay-bearing unit.\"\n",
      "Date : August  5, 2019\n",
      "page: 0 -------------\n",
      "Title : MEDLI2 Installation on Mars 2020 Aeroshell Begins\n",
      "Paragraph : Hardware installed onto NASA's Mars 2020 entry vehicle this week will help to increase the safety of future Mars landings.\n",
      "Date : August  3, 2019\n",
      "page: 0 -------------\n",
      "Title : NASA's Mars 2020 Rover Does Biceps Curls \n",
      "Paragraph : In this time-lapse video, the robotic arm on NASA's Mars 2020 rover maneuvers its 88-pound (40-kilogram) sensor-laden turret as it moves from a deployed to stowed configuration.\n",
      "Date : July 26, 2019\n",
      "page: 0 -------------\n",
      "Title : Fueling of NASA's Mars 2020 Rover Power System Begins\n",
      "Paragraph : NASA gives the go-ahead to fuel the Mars 2020 rover's Multi-Mission Radioisotope Thermoelectric Generator, which will power rover and help keep it warm while exploring Mars.\n",
      "Date : July 24, 2019\n",
      "page: 0 -------------\n",
      "Title : What Does a Marsquake Look Like?\n",
      "Paragraph : InSight scientists used a special \"shake room\" to demonstrate the differences between quakes on Earth, the Moon and Mars.\n",
      "Date : July 22, 2019\n",
      "page: 0 -------------\n",
      "Title : Mars 2020 Rover: T-Minus One Year and Counting \n",
      "Paragraph : The launch period for NASA's next rover, Mars 2020, opens exactly one year from today, July 17, 2020, and extends through Aug. 5, 2020.\n",
      "Date : July 17, 2019\n",
      "page: 0 -------------\n",
      "Title : NASA Racks Up Two Emmy Nominations for Mission Coverage\n",
      "Paragraph : JPL's coverage of the Mars InSight mission is among the efforts that will be up for an award in mid-September.\n",
      "Date : July 16, 2019\n",
      "page: 0 -------------\n",
      "Title : Want to Colonize Mars? Aerogel Could Help\n",
      "Paragraph : Researchers are studying whether a wonder material used in Mars rovers could help warm parts of the Red Planet rich in water ice.\n",
      "Date : July 15, 2019\n",
      "page: 0 -------------\n",
      "Title : A Rover Pit Stop at JPL\n",
      "Paragraph : Working like a finely honed machine, a team of engineers in this time-lapse video clip install test wheels on another finely honed machine: NASA's Mars 2020 rover.\n",
      "Date : July 12, 2019\n",
      "page: 0 -------------\n",
      "Title : Mars 2020 Rover Gets a Super Instrument\n",
      "Paragraph : With its rock-zapping laser, the SuperCam will enable the science team to identify the chemical and mineral makeup of its targets on the Red Planet.\n",
      "Date : July  2, 2019\n",
      "page: 0 -------------\n",
      "Title : A Neil Armstrong for Mars: Landing the Mars 2020 Rover\n",
      "Paragraph : NASA's newest rover will have an autopilot called Terrain-Relative Navigation.\n",
      "Date : July  1, 2019\n",
      "page: 0 -------------\n",
      "Title : NASA's InSight Uncovers the 'Mole' \n",
      "Paragraph : The lander's robotic arm has successfully removed a piece of hardware blocking the view of its digging device in order to help with recovery efforts.\n",
      "Date : July  1, 2019\n",
      "page: 0 -------------\n",
      "Title : Mars 2020 Rover's 7-Foot-Long Robotic Arm Installed\n",
      "Paragraph : The main robotic arm has been installed on NASA's newest rover. When complete, the arm will enable the rover to hold and use science tools like a human geologist would.\n",
      "Date : June 28, 2019\n",
      "page: 0 -------------\n",
      "Title : NASA Selects Partners for Mars 2020 'Name the Rover' Contest, Seeks Judges\n",
      "Paragraph : The contest for U.S. schoolchildren will open in fall 2019, but judges can sign up now.\n",
      "Date : June 25, 2019\n"
     ]
    }
   ],
   "source": [
    "\n",
    "\n",
    "html = browser.html\n",
    "soup = BeautifulSoup(html, 'html.parser')\n",
    "\n",
    "results = soup.find_all('li', class_=\"slide\")\n",
    "\n",
    "\n",
    "\n",
    "#     Loop through returned results\n",
    "for result in results:\n",
    "# Error handling\n",
    "    try:\n",
    "    # Identify and return news title\n",
    "        news_title = result.find('div', class_='content_title').text\n",
    "        # Identify and return paragraph text\n",
    "        news_p = result.div.find(\"div\", class_=\"article_teaser_body\").text\n",
    "        # Identify and return date\n",
    "        news_date = result.find('div',class_='list_date').text\n",
    "\n",
    "        # Print results only if title, price, and link are available\n",
    "        if (news_title and news_p and news_date):\n",
    "            print('page:', x, '-------------')\n",
    "            print('Title :',news_title)\n",
    "            print('Paragraph :', news_p)\n",
    "            print('Date :', news_date)\n",
    "\n",
    "#                 browser.click_link_by_text('More')\n",
    "    except AttributeError as e:\n",
    "        print(e)\n"
   ]
  },
  {
   "cell_type": "code",
   "execution_count": null,
   "metadata": {},
   "outputs": [],
   "source": [
    "# JPL Mars Space Images - Featured Image"
   ]
  },
  {
   "cell_type": "code",
   "execution_count": 32,
   "metadata": {},
   "outputs": [],
   "source": [
    "browser.quit()"
   ]
  },
  {
   "cell_type": "code",
   "execution_count": 33,
   "metadata": {},
   "outputs": [],
   "source": [
    "executable_path = {'executable_path': 'chromedriver'}\n",
    "browser = Browser('chrome', **executable_path, headless=False)"
   ]
  },
  {
   "cell_type": "code",
   "execution_count": 34,
   "metadata": {},
   "outputs": [],
   "source": [
    "url_JPL= \"https://www.jpl.nasa.gov/spaceimages/?search=&category=Mars\""
   ]
  },
  {
   "cell_type": "code",
   "execution_count": 35,
   "metadata": {},
   "outputs": [],
   "source": [
    "browser.visit(url_JPL)"
   ]
  },
  {
   "cell_type": "code",
   "execution_count": 36,
   "metadata": {},
   "outputs": [
    {
     "name": "stdout",
     "output_type": "stream",
     "text": [
      "page: 0 -------------\n",
      "Image description: Olympia Undae\n",
      "Image URL: /spaceimages/images/wallpaper/PIA23539-640x350.jpg\n",
      "page: 0 -------------\n",
      "Image description: InSight\n",
      "Image URL: /spaceimages/images/wallpaper/PIA23512-640x350.jpg\n",
      "page: 0 -------------\n",
      "Image description: Micoud Crater\n",
      "Image URL: /spaceimages/images/wallpaper/PIA23538-640x350.jpg\n",
      "page: 0 -------------\n",
      "Image description: Terraced Wall Crater\n",
      "Image URL: /spaceimages/images/wallpaper/PIA23537-640x350.jpg\n",
      "page: 0 -------------\n",
      "Image description: Lyot Crater Dunes\n",
      "Image URL: /spaceimages/images/wallpaper/PIA23536-640x350.jpg\n",
      "page: 0 -------------\n",
      "Image description: Chincoteague Crater\n",
      "Image URL: /spaceimages/images/wallpaper/PIA23525-640x350.jpg\n",
      "page: 0 -------------\n",
      "Image description: Nili Fossae\n",
      "Image URL: /spaceimages/images/wallpaper/PIA23524-640x350.jpg\n",
      "page: 0 -------------\n",
      "Image description: Aromatum Chaos\n",
      "Image URL: /spaceimages/images/wallpaper/PIA23523-640x350.jpg\n",
      "page: 0 -------------\n",
      "Image description: Medusae Fossae\n",
      "Image URL: /spaceimages/images/wallpaper/PIA23522-640x350.jpg\n",
      "page: 0 -------------\n",
      "Image description: Idaeus Fossae\n",
      "Image URL: /spaceimages/images/wallpaper/PIA23521-640x350.jpg\n",
      "page: 0 -------------\n",
      "Image description: InSight\n",
      "Image URL: /spaceimages/images/wallpaper/PIA23213-640x350.jpg\n",
      "page: 0 -------------\n",
      "Image description: Indus Vallis\n",
      "Image URL: /spaceimages/images/wallpaper/PIA23510-640x350.jpg\n",
      "page: 0 -------------\n",
      "Image description: Curiosity at Glen Etive\n",
      "Image URL: /spaceimages/images/wallpaper/PIA23378-640x350.jpg\n",
      "page: 0 -------------\n",
      "Image description: Dark Slope Streaks\n",
      "Image URL: /spaceimages/images/wallpaper/PIA23509-640x350.jpg\n",
      "page: 0 -------------\n",
      "Image description: Indus Vallis Tributaries\n",
      "Image URL: /spaceimages/images/wallpaper/PIA23508-640x350.jpg\n",
      "page: 0 -------------\n",
      "Image description: Hephaestus Fossae\n",
      "Image URL: /spaceimages/images/wallpaper/PIA23507-640x350.jpg\n",
      "page: 0 -------------\n",
      "Image description: Enigmatic Canyon Dunes\n",
      "Image URL: /spaceimages/images/wallpaper/PIA23530-640x350.jpg\n",
      "page: 0 -------------\n",
      "Image description: Pristine Dust Deposits in Syria Planum\n",
      "Image URL: /spaceimages/images/wallpaper/PIA23529-640x350.jpg\n",
      "page: 0 -------------\n",
      "Image description: Down in Chukhung Crater\n",
      "Image URL: /spaceimages/images/wallpaper/PIA23528-640x350.jpg\n",
      "page: 0 -------------\n",
      "Image description: A Martian Game Board\n",
      "Image URL: /spaceimages/images/wallpaper/PIA23527-640x350.jpg\n",
      "page: 0 -------------\n",
      "Image description: Athabasca Valles\n",
      "Image URL: /spaceimages/images/wallpaper/PIA23506-640x350.jpg\n",
      "page: 0 -------------\n",
      "Image description: Uranius Fossae\n",
      "Image URL: /spaceimages/images/wallpaper/PIA23505-640x350.jpg\n",
      "page: 0 -------------\n",
      "Image description: Pinning Helps the Mole Move\n",
      "Image URL: /spaceimages/images/wallpaper/PIA23379-640x350.jpg\n",
      "page: 0 -------------\n",
      "Image description: Elysium Fossae\n",
      "Image URL: /spaceimages/images/wallpaper/PIA23504-640x350.jpg\n",
      "page: 0 -------------\n",
      "Image description: HiRISE Watches Curiosity Journey Across the Clay Unit\n",
      "Image URL: /spaceimages/images/wallpaper/PIA23377-640x350.jpg\n",
      "page: 0 -------------\n",
      "Image description: The Best View of InSight\n",
      "Image URL: /spaceimages/images/wallpaper/PIA23376-640x350.jpg\n",
      "page: 0 -------------\n",
      "Image description: Cerberus Fossae\n",
      "Image URL: /spaceimages/images/wallpaper/PIA23503-640x350.jpg\n",
      "page: 0 -------------\n",
      "Image description: Arabia Terra Channel\n",
      "Image URL: /spaceimages/images/wallpaper/PIA23502-640x350.jpg\n",
      "page: 0 -------------\n",
      "Image description: Olympica Fossae\n",
      "Image URL: /spaceimages/images/wallpaper/PIA23501-640x350.jpg\n",
      "page: 0 -------------\n",
      "Image description: Terra Cimmeria\n",
      "Image URL: /spaceimages/images/wallpaper/PIA23489-640x350.jpg\n",
      "page: 0 -------------\n",
      "Image description: Lyot Crater Dunes\n",
      "Image URL: /spaceimages/images/wallpaper/PIA23488-640x350.jpg\n",
      "page: 0 -------------\n",
      "Image description: Cerulli Crater Rim\n",
      "Image URL: /spaceimages/images/wallpaper/PIA23487-640x350.jpg\n",
      "'NoneType' object has no attribute 'img'\n",
      "'NoneType' object has no attribute 'img'\n",
      "'NoneType' object has no attribute 'img'\n",
      "'NoneType' object has no attribute 'img'\n",
      "'NoneType' object has no attribute 'img'\n"
     ]
    }
   ],
   "source": [
    "\n",
    "\n",
    "html_JPL = browser.html\n",
    "soup = BeautifulSoup(html_JPL, 'html.parser')\n",
    "\n",
    "results = soup.find_all('li', class_=\"slide\")\n",
    "\n",
    "\n",
    "\n",
    "#     Loop through returned results\n",
    "for result in results:\n",
    "# Error handling\n",
    "    try:\n",
    "    # Identify and return news title\n",
    "        featured_image_url = result.find('div', class_='img').img['src']\n",
    "#             # Identify and return paragraph text\n",
    "        featured_image_description = result.find('div', class_='img').img['title']\n",
    "#             # Identify and return date\n",
    "#             news_date = result.find('div',class_='list_date').text\n",
    "\n",
    "        # Print results only if title, price, and link are available\n",
    "        if (featured_image_url and featured_image_description ):\n",
    "            print('page:', x, '-------------')\n",
    "            print('Image description:',featured_image_description )\n",
    "            print('Image URL:',featured_image_url)\n",
    "\n",
    "\n",
    "\n",
    "#                 browser.click_link_by_text('More')\n",
    "    except AttributeError as e:\n",
    "        print(e)"
   ]
  },
  {
   "cell_type": "code",
   "execution_count": 37,
   "metadata": {},
   "outputs": [],
   "source": [
    "# Mars Weather twitter scrape"
   ]
  },
  {
   "cell_type": "code",
   "execution_count": 38,
   "metadata": {},
   "outputs": [],
   "source": [
    "browser.quit()"
   ]
  },
  {
   "cell_type": "code",
   "execution_count": 39,
   "metadata": {},
   "outputs": [],
   "source": [
    "executable_path = {'executable_path': 'chromedriver'}\n",
    "browser = Browser('chrome', **executable_path, headless=False)"
   ]
  },
  {
   "cell_type": "code",
   "execution_count": 40,
   "metadata": {},
   "outputs": [],
   "source": [
    "url_weather = \"https://twitter.com/marswxreport?lang=en\""
   ]
  },
  {
   "cell_type": "code",
   "execution_count": 41,
   "metadata": {},
   "outputs": [],
   "source": [
    "browser.visit(url_weather)"
   ]
  },
  {
   "cell_type": "code",
   "execution_count": 42,
   "metadata": {},
   "outputs": [],
   "source": [
    "html_weather = browser.html\n",
    "soup = BeautifulSoup(html_weather, 'html.parser')\n",
    "\n",
    "results = soup.find_all('div', class_=\"stream-container\")\n"
   ]
  },
  {
   "cell_type": "code",
   "execution_count": 43,
   "metadata": {},
   "outputs": [
    {
     "name": "stdout",
     "output_type": "stream",
     "text": [
      "page: 0 -------------\n",
      "Mars Weather: InSight sol 335 (2019-11-05) low -100.6ºC (-149.1ºF) high -24.3ºC (-11.8ºF)\n",
      "winds from the SSE at 4.9 m/s (10.9 mph) gusting to 19.9 m/s (44.5 mph)\n",
      "pressure at 6.90 hPa\n"
     ]
    }
   ],
   "source": [
    "#     Loop through returned results\n",
    "for result in results:\n",
    "    # Error handling\n",
    "    try:\n",
    "        # Identify and return news title\n",
    "        mars_weather = result.find('p', class_=\"TweetTextSize TweetTextSize--normal js-tweet-text tweet-text\").text\n",
    "#             # Identify and return paragraph text\n",
    "#         featured_image_description = result.find('div', class_='img').img['title']\n",
    "#             # Identify and return date\n",
    "#             news_date = result.find('div',class_='list_date').text\n",
    "\n",
    "            # Print results only if title, price, and link are available\n",
    "        if (mars_weather):\n",
    "            print('page:', x, '-------------')\n",
    "            print('Mars Weather:',mars_weather )\n",
    "#             print('Image URL:',featured_image_url)\n",
    "                \n",
    "                \n",
    "                \n",
    "#                 browser.click_link_by_text('More')\n",
    "    except AttributeError as e:\n",
    "        print(e)"
   ]
  },
  {
   "cell_type": "code",
   "execution_count": 44,
   "metadata": {},
   "outputs": [],
   "source": [
    "# Mars Facts"
   ]
  },
  {
   "cell_type": "code",
   "execution_count": 45,
   "metadata": {},
   "outputs": [],
   "source": [
    "browser.quit()"
   ]
  },
  {
   "cell_type": "code",
   "execution_count": 46,
   "metadata": {},
   "outputs": [],
   "source": [
    "executable_path = {'executable_path': 'chromedriver'}\n",
    "browser = Browser('chrome', **executable_path, headless=False)"
   ]
  },
  {
   "cell_type": "code",
   "execution_count": 47,
   "metadata": {},
   "outputs": [],
   "source": [
    "url_facts = \"https://space-facts.com/mars/\""
   ]
  },
  {
   "cell_type": "code",
   "execution_count": 48,
   "metadata": {},
   "outputs": [],
   "source": [
    "browser.visit(url_facts)"
   ]
  },
  {
   "cell_type": "code",
   "execution_count": 49,
   "metadata": {},
   "outputs": [
    {
     "data": {
      "text/plain": [
       "[<div class=\"widget widget_text profiles\" id=\"text-75\"><div class=\"textwidget\"><table class=\"tablepress tablepress-id-p-mars\" id=\"tablepress-p-mars\"><tbody><tr class=\"row-1 odd\"><td class=\"column-1\"><strong>Equatorial Diameter:</strong></td><td class=\"column-2\">6,792 km<br/></td></tr><tr class=\"row-2 even\"><td class=\"column-1\"><strong>Polar Diameter:</strong></td><td class=\"column-2\">6,752 km<br/></td></tr><tr class=\"row-3 odd\"><td class=\"column-1\"><strong>Mass:</strong></td><td class=\"column-2\">6.39 × 10^23 kg<br/> (0.11 Earths)</td></tr><tr class=\"row-4 even\"><td class=\"column-1\"><strong>Moons:</strong></td><td class=\"column-2\">2 (<a href=\"https://space-facts.com/moons/phobos/\">Phobos</a> &amp; <a href=\"https://space-facts.com/moons/deimos/\">Deimos</a>)</td></tr><tr class=\"row-5 odd\"><td class=\"column-1\"><strong>Orbit Distance:</strong></td><td class=\"column-2\">227,943,824 km<br/> (1.38 AU)</td></tr><tr class=\"row-6 even\"><td class=\"column-1\"><strong>Orbit Period:</strong></td><td class=\"column-2\">687 days (1.9 years)<br/></td></tr><tr class=\"row-7 odd\"><td class=\"column-1\"><strong>Surface Temperature: </strong></td><td class=\"column-2\">-87 to -5 °C</td></tr><tr class=\"row-8 even\"><td class=\"column-1\"><strong>First Record:</strong></td><td class=\"column-2\">2nd millennium BC</td></tr><tr class=\"row-9 odd\"><td class=\"column-1\"><strong>Recorded By:</strong></td><td class=\"column-2\">Egyptian astronomers</td></tr></tbody></table> <!-- #tablepress-p-mars from cache --></div></div>]"
      ]
     },
     "execution_count": 49,
     "metadata": {},
     "output_type": "execute_result"
    }
   ],
   "source": [
    "\n",
    "html_facts = browser.html\n",
    "soup = BeautifulSoup(html_facts, 'html.parser')\n",
    "\n",
    "results = soup.find_all(\"div\", class_=\"widget widget_text profiles\")\n"
   ]
  },
  {
   "cell_type": "code",
   "execution_count": 94,
   "metadata": {},
   "outputs": [],
   "source": [
    "#     Loop through returned results\n",
    "col_1 = []\n",
    "col_2 = []\n",
    "for result in results:\n",
    "    # Error handling\n",
    "    try:\n",
    "        td_item = result.find_all('td', class_='column-1')\n",
    "        tr_item = result.find_all('td', class_='column-2')\n",
    "\n",
    "\n",
    "#         row = [tr_item.text for tr_item in td_item]\n",
    "#         row\n",
    "        if(td_item and tr_item):\n",
    "#             print(td_item,\"  \",tr_item)\n",
    "            for el in td_item:\n",
    "               col_1.append(el.get_text())\n",
    "            for el in tr_item:\n",
    "                col_2.append(el.get_text())\n",
    "        \n",
    "    except AttributeError as e:\n",
    "        print(e)"
   ]
  },
  {
   "cell_type": "code",
   "execution_count": 98,
   "metadata": {},
   "outputs": [
    {
     "data": {
      "text/html": [
       "<div>\n",
       "<style scoped>\n",
       "    .dataframe tbody tr th:only-of-type {\n",
       "        vertical-align: middle;\n",
       "    }\n",
       "\n",
       "    .dataframe tbody tr th {\n",
       "        vertical-align: top;\n",
       "    }\n",
       "\n",
       "    .dataframe thead th {\n",
       "        text-align: right;\n",
       "    }\n",
       "</style>\n",
       "<table border=\"1\" class=\"dataframe\">\n",
       "  <thead>\n",
       "    <tr style=\"text-align: right;\">\n",
       "      <th></th>\n",
       "      <th>Description</th>\n",
       "      <th>Value</th>\n",
       "    </tr>\n",
       "  </thead>\n",
       "  <tbody>\n",
       "    <tr>\n",
       "      <th>0</th>\n",
       "      <td>Equatorial Diameter:</td>\n",
       "      <td>6,792 km</td>\n",
       "    </tr>\n",
       "    <tr>\n",
       "      <th>1</th>\n",
       "      <td>Polar Diameter:</td>\n",
       "      <td>6,752 km</td>\n",
       "    </tr>\n",
       "    <tr>\n",
       "      <th>2</th>\n",
       "      <td>Mass:</td>\n",
       "      <td>6.39 × 10^23 kg (0.11 Earths)</td>\n",
       "    </tr>\n",
       "    <tr>\n",
       "      <th>3</th>\n",
       "      <td>Moons:</td>\n",
       "      <td>2 (Phobos &amp; Deimos)</td>\n",
       "    </tr>\n",
       "    <tr>\n",
       "      <th>4</th>\n",
       "      <td>Orbit Distance:</td>\n",
       "      <td>227,943,824 km (1.38 AU)</td>\n",
       "    </tr>\n",
       "    <tr>\n",
       "      <th>5</th>\n",
       "      <td>Orbit Period:</td>\n",
       "      <td>687 days (1.9 years)</td>\n",
       "    </tr>\n",
       "    <tr>\n",
       "      <th>6</th>\n",
       "      <td>Surface Temperature:</td>\n",
       "      <td>-87 to -5 °C</td>\n",
       "    </tr>\n",
       "    <tr>\n",
       "      <th>7</th>\n",
       "      <td>First Record:</td>\n",
       "      <td>2nd millennium BC</td>\n",
       "    </tr>\n",
       "    <tr>\n",
       "      <th>8</th>\n",
       "      <td>Recorded By:</td>\n",
       "      <td>Egyptian astronomers</td>\n",
       "    </tr>\n",
       "  </tbody>\n",
       "</table>\n",
       "</div>"
      ],
      "text/plain": [
       "             Description                          Value\n",
       "0   Equatorial Diameter:                       6,792 km\n",
       "1        Polar Diameter:                       6,752 km\n",
       "2                  Mass:  6.39 × 10^23 kg (0.11 Earths)\n",
       "3                 Moons:            2 (Phobos & Deimos)\n",
       "4        Orbit Distance:       227,943,824 km (1.38 AU)\n",
       "5          Orbit Period:           687 days (1.9 years)\n",
       "6  Surface Temperature:                    -87 to -5 °C\n",
       "7          First Record:              2nd millennium BC\n",
       "8           Recorded By:           Egyptian astronomers"
      ]
     },
     "execution_count": 98,
     "metadata": {},
     "output_type": "execute_result"
    }
   ],
   "source": [
    "mars_facts_df= pd.DataFrame({'Description':col_1,'Value':col_2})\n",
    "mars_facts_df"
   ]
  },
  {
   "cell_type": "code",
   "execution_count": 165,
   "metadata": {},
   "outputs": [],
   "source": [
    "# HTML table pandas dataframe\n",
    "html_table_mars_facts = mars_facts_df.to_html()"
   ]
  },
  {
   "cell_type": "code",
   "execution_count": 166,
   "metadata": {},
   "outputs": [],
   "source": [
    "# Mars Hemispheres\n",
    "browser.quit()"
   ]
  },
  {
   "cell_type": "code",
   "execution_count": 167,
   "metadata": {},
   "outputs": [],
   "source": [
    "executable_path = {'executable_path': 'chromedriver'}\n",
    "browser = Browser('chrome', **executable_path, headless=False)"
   ]
  },
  {
   "cell_type": "code",
   "execution_count": 168,
   "metadata": {},
   "outputs": [],
   "source": [
    "url_hemispheres = \"https://astrogeology.usgs.gov/search/results?q=hemisphere+enhanced&k1=target&v1=Mars\""
   ]
  },
  {
   "cell_type": "code",
   "execution_count": 169,
   "metadata": {},
   "outputs": [],
   "source": [
    "browser.visit(url_hemispheres)"
   ]
  },
  {
   "cell_type": "code",
   "execution_count": 170,
   "metadata": {},
   "outputs": [
    {
     "data": {
      "text/plain": [
       "[<h3>Cerberus Hemisphere Enhanced</h3>,\n",
       " <h3>Schiaparelli Hemisphere Enhanced</h3>,\n",
       " <h3>Syrtis Major Hemisphere Enhanced</h3>,\n",
       " <h3>Valles Marineris Hemisphere Enhanced</h3>]"
      ]
     },
     "execution_count": 170,
     "metadata": {},
     "output_type": "execute_result"
    }
   ],
   "source": [
    "html_hemispheres = browser.html\n",
    "soup = BeautifulSoup(html_hemispheres, 'html.parser')\n",
    "\n",
    "results = soup.div.find_all(\"h3\")\n",
    "\n",
    "results"
   ]
  },
  {
   "cell_type": "code",
   "execution_count": 171,
   "metadata": {},
   "outputs": [],
   "source": [
    "hemisphere = []\n",
    "for result in results:\n",
    "    hemisphere.append(result.get_text())\n",
    "   "
   ]
  },
  {
   "cell_type": "code",
   "execution_count": 172,
   "metadata": {},
   "outputs": [
    {
     "data": {
      "text/plain": [
       "['Cerberus Hemisphere Enhanced',\n",
       " 'Schiaparelli Hemisphere Enhanced',\n",
       " 'Syrtis Major Hemisphere Enhanced',\n",
       " 'Valles Marineris Hemisphere Enhanced']"
      ]
     },
     "execution_count": 172,
     "metadata": {},
     "output_type": "execute_result"
    }
   ],
   "source": [
    "hemisphere"
   ]
  },
  {
   "cell_type": "code",
   "execution_count": 173,
   "metadata": {},
   "outputs": [],
   "source": [
    "hem_link=[]\n",
    "for i in hemisphere:\n",
    "    browser.click_link_by_partial_text(i)\n",
    "    html_hemispheres = browser.html\n",
    "    soup = BeautifulSoup(html_hemispheres, 'html.parser')\n",
    "\n",
    "    results = soup.find_all('div', class_='downloads')\n",
    "    for result in results:\n",
    "        hem_link.append(result.a['href'])\n",
    "       \n",
    "    browser.visit(url_hemispheres)\n",
    "    "
   ]
  },
  {
   "cell_type": "code",
   "execution_count": 178,
   "metadata": {},
   "outputs": [],
   "source": [
    "hemisphere_image_urls = []\n",
    "\n",
    "for i in range(len(hem_link)):\n",
    "    hemisphere_image_urls.append({\"title\": hemisphere[i], \"img_url\": hem_link[i]})\n",
    "   \n"
   ]
  },
  {
   "cell_type": "code",
   "execution_count": 179,
   "metadata": {},
   "outputs": [
    {
     "data": {
      "text/plain": [
       "[{'title': 'Cerberus Hemisphere Enhanced',\n",
       "  'img_url': 'http://astropedia.astrogeology.usgs.gov/download/Mars/Viking/cerberus_enhanced.tif/full.jpg'},\n",
       " {'title': 'Schiaparelli Hemisphere Enhanced',\n",
       "  'img_url': 'http://astropedia.astrogeology.usgs.gov/download/Mars/Viking/schiaparelli_enhanced.tif/full.jpg'},\n",
       " {'title': 'Syrtis Major Hemisphere Enhanced',\n",
       "  'img_url': 'http://astropedia.astrogeology.usgs.gov/download/Mars/Viking/syrtis_major_enhanced.tif/full.jpg'},\n",
       " {'title': 'Valles Marineris Hemisphere Enhanced',\n",
       "  'img_url': 'http://astropedia.astrogeology.usgs.gov/download/Mars/Viking/valles_marineris_enhanced.tif/full.jpg'}]"
      ]
     },
     "execution_count": 179,
     "metadata": {},
     "output_type": "execute_result"
    }
   ],
   "source": [
    "hemisphere_image_urls "
   ]
  },
  {
   "cell_type": "code",
   "execution_count": null,
   "metadata": {},
   "outputs": [],
   "source": []
  }
 ],
 "metadata": {
  "file_extension": ".py",
  "kernelspec": {
   "display_name": "Python 3",
   "language": "python",
   "name": "python3"
  },
  "language_info": {
   "codemirror_mode": {
    "name": "ipython",
    "version": 3
   },
   "file_extension": ".py",
   "mimetype": "text/x-python",
   "name": "python",
   "nbconvert_exporter": "python",
   "pygments_lexer": "ipython3",
   "version": "3.7.3"
  },
  "mimetype": "text/x-python",
  "name": "python",
  "npconvert_exporter": "python",
  "pygments_lexer": "ipython3",
  "version": 3
 },
 "nbformat": 4,
 "nbformat_minor": 2
}
