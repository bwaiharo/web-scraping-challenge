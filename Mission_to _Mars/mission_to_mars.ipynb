{
 "cells": [
  {
   "cell_type": "code",
   "execution_count": 1,
   "metadata": {},
   "outputs": [],
   "source": [
    "# Dependencies\n",
    "# import sys\n",
    "# sys.path.append('C:/Program Files/Python36/Lib/site-packages/')\n",
    "from bs4 import BeautifulSoup\n",
    "import requests\n",
    "from splinter import Browser\n",
    "import pandas as pd\n"
   ]
  },
  {
   "cell_type": "code",
   "execution_count": 26,
   "metadata": {},
   "outputs": [],
   "source": [
    "executable_path = {'executable_path': 'chromedriver'}\n",
    "browser = Browser('chrome', **executable_path, headless=False)"
   ]
  },
  {
   "cell_type": "code",
   "execution_count": 27,
   "metadata": {},
   "outputs": [],
   "source": [
    "# NASA Mars News\n",
    "# URL of page to be scraped\n",
    "url = 'https://mars.nasa.gov/news/?page=0&per_page=40&order=publish_date+desc%2Ccreated_at+desc&search=&category=19%2C165%2C184%2C204&blank_scope=Latest'"
   ]
  },
  {
   "cell_type": "code",
   "execution_count": 28,
   "metadata": {},
   "outputs": [],
   "source": [
    "browser.visit(url)"
   ]
  },
  {
   "cell_type": "code",
   "execution_count": 29,
   "metadata": {},
   "outputs": [
    {
     "name": "stdout",
     "output_type": "stream",
     "text": [
      "{'Title': 'Space History Is Made in This NASA Robot Factory', 'Paragraph': \"From rockets to rovers, JPL's Spacecraft Assembly Facility has been at the center of robotic spaceflight. Here's a closer look at what makes it so special.\", 'Date': 'December 23, 2019'}\n",
      "{'Title': \"NASA's Mars 2020 Rover Completes Its First Drive\", 'Paragraph': 'In a 10-plus-hour marathon, the rover steered, turned and drove in 3-foot (1-meter) increments over small ramps.', 'Date': 'December 18, 2019'}\n",
      "{'Title': \"NASA's Treasure Map for Water Ice on Mars\", 'Paragraph': 'A new study identifies frozen water just below the Martian surface, where astronauts could easily dig it up.', 'Date': 'December 10, 2019'}\n",
      "{'Title': 'Two Rovers to Roll on Mars Again: Curiosity and Mars 2020', 'Paragraph': 'They look like twins. But under the hood, the rover currently exploring the Red Planet and the one launching there this summer have distinct science tools and roles to play.', 'Date': 'December 10, 2019'}\n",
      "{'Title': \"NASA's Briefcase-Size MarCO Satellite Picks Up Honors\", 'Paragraph': 'The twin spacecraft, the first of their kind to fly into deep space, earn a Laureate from Aviation Week & Space Technology.', 'Date': 'November 27, 2019'}\n",
      "{'Title': 'Global Storms on Mars Launch Dust Towers Into the Sky', 'Paragraph': 'A Mars Dust Tower Stands Out Dust storms are common on Mars. But every decade or so, something unpredictable happens: a series of runaway storms break out, covering the entire planet in a dusty haze.', 'Date': 'November 26, 2019'}\n",
      "{'Title': 'NASA Updates Mars 2020 Mission Environmental Review', 'Paragraph': 'NASA and the Department of Energy have completed a more detailed risk analysis for the Mars 2020 rover launch from Florida.', 'Date': 'November 21, 2019'}\n",
      "{'Title': 'Two of a Space Kind: Apollo 12 and Mars 2020', 'Paragraph': 'Apollo 12 and the upcoming Mars 2020 mission may be separated by half a century, but they share several goals unique in the annals of space exploration.', 'Date': 'November 20, 2019'}\n",
      "{'Title': 'Mars Scientists Investigate Ancient Life in Australia', 'Paragraph': \"Teams with NASA's Mars 2020 and ESA's ExoMars practiced hunting for fossilized microbial life in the Australian Outback in preparation for their Red Planet missions. \", 'Date': 'November 15, 2019'}\n",
      "{'Title': \"NASA's Mars 2020 Will Hunt for Microscopic Fossils\", 'Paragraph': \"A new paper identifies a ring of minerals at the rover's landing site that are ideal for fossilizing microbial life.\", 'Date': 'November 12, 2019'}\n",
      "{'Title': 'With Mars Methane Mystery Unsolved, Curiosity Serves Scientists a New One: Oxygen', 'Paragraph': 'For the first time in the history of space exploration, scientists have measured the seasonal changes in the gases that fill the air directly above the surface of Gale Crater on Mars. ', 'Date': 'November 12, 2019'}\n",
      "{'Title': \"NASA's Mars 2020 Heads Into the Test Chamber\", 'Paragraph': 'In this time-lapse video taken at JPL, engineers move the Mars 2020 rover into a large vacuum chamber for testing in Mars-like environmental conditions.', 'Date': 'November  7, 2019'}\n",
      "{'Title': \"Screening Soon: 'The Pathfinders' Trains Lens on Mars\", 'Paragraph': 'With the Mars 2020 mission ramping up, the documentary — the first of four about past JPL missions to the Red Planet to be shown at Caltech — tells a gripping backstory.', 'Date': 'November  7, 2019'}\n",
      "{'Title': \"InSight's 'Mole' Team Peers into the Pit\", 'Paragraph': 'Efforts to save the heat probe continue.', 'Date': 'November  6, 2019'}\n",
      "{'Title': \"Common Questions about InSight's 'Mole'\", 'Paragraph': 'There\\'s a new plan to get InSight\\'s \"mole\" moving again. The following Q&As with two members of the team answer some of the most common questions about the burrowing device, part of a science instrument called the Heat Flow and Physical Properties Package (HP3).', 'Date': 'November  6, 2019'}\n",
      "{'Title': 'Mars 2020 Stands on Its Own Six Wheels', 'Paragraph': \"In time-lapse video, taken at JPL, captures the first time NASA's Mars 2020 rover carries its full weight on its legs and wheels.\", 'Date': 'October 24, 2019'}\n",
      "{'Title': 'New Selfie Shows Curiosity, the Mars Chemist', 'Paragraph': 'The NASA rover performed a special chemistry experiment at the location captured in its newest self-portrait.', 'Date': 'October 24, 2019'}\n",
      "{'Title': 'Naming a NASA Mars Rover Can Change Your Life', 'Paragraph': 'Want to name the robotic scientist NASA is sending to Mars in 2020? The student who named Curiosity — the rover currently exploring Mars — will tell you this is an opportunity worth taking.', 'Date': 'October 22, 2019'}\n",
      "{'Title': 'Mars 2020 Unwrapped and Ready for More Testing', 'Paragraph': \"In time-lapse video, bunny-suited engineers remove the inner layer of protective foil on NASA's Mars 2020 rover after it was relocated for testing.\", 'Date': 'October 18, 2019'}\n",
      "{'Title': \"HiRISE Views NASA's InSight and Curiosity on Mars\", 'Paragraph': 'New images taken from space offer the clearest orbital glimpse yet of InSight as well as a view of Curiosity rolling along.', 'Date': 'October 16, 2019'}\n",
      "{'Title': \"NASA's Curiosity Rover Finds an Ancient Oasis on Mars\", 'Paragraph': \"New evidence suggests salty, shallow ponds once dotted a Martian crater — a sign of the planet's drying climate.\", 'Date': 'October  7, 2019'}\n",
      "{'Title': \"NASA's Mars 2020 Rover Tests Descent-Stage Separation\", 'Paragraph': \"A crane lifts the rocket-powered descent stage away from NASA's Mars 2020 rover after technicians tested the pyrotechnic charges that separate the two spacecraft.\", 'Date': 'October  4, 2019'}\n",
      "{'Title': \"NASA's Push to Save the Mars InSight Lander's Heat Probe\", 'Paragraph': \"The scoop on the end of the spacecraft's robotic arm will be used to 'pin' the mole against the wall of its hole.\", 'Date': 'October  3, 2019'}\n",
      "{'Title': \"NASA's InSight 'Hears' Peculiar Sounds on Mars\", 'Paragraph': 'Listen to the marsquakes and other, less-expected sounds that the Mars lander has been detecting.', 'Date': 'October  1, 2019'}\n",
      "{'Title': 'NASA Mars Mission Connects With Bosnian and Herzegovinian Town', 'Paragraph': 'A letter from NASA was presented to the mayor of Jezero, Bosnia-Herzegovina, honoring the connection between the town and Jezero Crater, the Mars 2020 rover landing site.', 'Date': 'September 23, 2019'}\n",
      "{'Title': \"Deadline Closing for Names to Fly on NASA's Next Mars Rover\", 'Paragraph': 'You have until Sept. 30 to send your names to Mars aboard the Mars 2020 rover. ', 'Date': 'September 18, 2019'}\n",
      "{'Title': 'NASA Wins Two Emmy Awards for Interactive Mission Coverage', 'Paragraph': \"NASA-JPL's coverage of the Mars InSight landing earns one of the two wins, making this the NASA center's second Emmy.\", 'Date': 'September 16, 2019'}\n",
      "{'Title': \"NASA's Mars 2020 Comes Full Circle\", 'Paragraph': \"Aiming to pinpoint the Martian vehicle's center of gravity, engineers took NASA's 2,300-pound Mars 2020 rover for a spin in the clean room at JPL. \", 'Date': 'September 12, 2019'}\n",
      "{'Title': 'NASA Invites Students to Name Mars 2020 Rover', 'Paragraph': \"Through Nov. 1, K-12 students in the U.S. are encouraged to enter an essay contest to name NASA's next Mars rover.\", 'Date': 'August 28, 2019'}\n",
      "{'Title': \"NASA's Mars Helicopter Attached to Mars 2020 Rover \", 'Paragraph': 'The helicopter will be first aircraft to perform flight tests on another planet.', 'Date': 'August 28, 2019'}\n",
      "{'Title': \"What's Mars Solar Conjunction, and Why Does It Matter?\", 'Paragraph': 'NASA spacecraft at Mars are going to be on their own for a few weeks when the Sun comes between Mars and Earth, interrupting communications.', 'Date': 'August 23, 2019'}\n",
      "{'Title': 'Scientists Explore Outback as Testbed for Mars ', 'Paragraph': \"Australia provides a great place for NASA's Mars 2020 and the ESA-Roscosmos ExoMars scientists to hone techniques in preparation for searching for signs ancient life on Mars.\", 'Date': 'August 23, 2019'}\n",
      "{'Title': \"NASA-JPL Names 'Rolling Stones Rock' on Mars\", 'Paragraph': \"NASA's Mars InSight mission honored one of the biggest bands of all time at Pasadena concert.\", 'Date': 'August 22, 2019'}\n",
      "{'Title': \"Robotic Toolkit Added to NASA's Mars 2020 Rover\", 'Paragraph': \"The bit carousel, which lies at the heart of the rover's Sample Caching System, is now aboard NASA's newest rover. \", 'Date': 'August 15, 2019'}\n",
      "{'Title': \"Space Samples Link NASA's Apollo 11 and Mars 2020\", 'Paragraph': \"While separated by half a century, NASA's Apollo 11 and Mars 2020 missions share the same historic goal: returning samples to Earth.\", 'Date': 'August 13, 2019'}\n",
      "{'Title': 'Small Satellite Mission of the Year', 'Paragraph': 'The first interplanetary CubeSats were recognized by the engineering community with the 2019 Small Satellite Mission of the Year award.', 'Date': 'August  9, 2019'}\n",
      "{'Title': \"NASA 'Optometrists' Verify Mars 2020 Rover's 20/20 Vision\", 'Paragraph': 'Mars 2020 rover underwent an eye exam after several cameras were installed on the rover.', 'Date': 'August  5, 2019'}\n",
      "{'Title': 'New Finds for Mars Rover, Seven Years After Landing', 'Paragraph': 'NASA\\'s Curiosity rover is discovering odd rocks halfway into a region called the \"clay-bearing unit.\"', 'Date': 'August  5, 2019'}\n",
      "{'Title': 'MEDLI2 Installation on Mars 2020 Aeroshell Begins', 'Paragraph': \"Hardware installed onto NASA's Mars 2020 entry vehicle this week will help to increase the safety of future Mars landings.\", 'Date': 'August  3, 2019'}\n",
      "{'Title': \"NASA's Mars 2020 Rover Does Biceps Curls \", 'Paragraph': \"In this time-lapse video, the robotic arm on NASA's Mars 2020 rover maneuvers its 88-pound (40-kilogram) sensor-laden turret as it moves from a deployed to stowed configuration.\", 'Date': 'July 26, 2019'}\n"
     ]
    }
   ],
   "source": [
    "news = {}\n",
    "\n",
    "html = browser.html\n",
    "soup = BeautifulSoup(html, 'html.parser')\n",
    "\n",
    "results = soup.find_all('li', class_=\"slide\")\n",
    "\n",
    "\n",
    "\n",
    "#     Loop through returned results\n",
    "for result in results:\n",
    "# Error handling\n",
    "    try:\n",
    "    # Identify and return news title\n",
    "        news_title = result.find('div', class_='content_title').text\n",
    "        # Identify and return paragraph text\n",
    "        news_p = result.div.find(\"div\", class_=\"article_teaser_body\").text\n",
    "        # Identify and return date\n",
    "        news_date = result.find('div',class_='list_date').text\n",
    "\n",
    "        # Print results only if title, price, and link are available\n",
    "        if (news_title and news_p and news_date):\n",
    "            \n",
    "#             print{'Title :',news_title)\n",
    "#             print('Paragraph :', news_p)\n",
    "#             print('Date :', news_date)\n",
    "            news = {'Title' :news_title, 'Paragraph' :news_p, 'Date' : news_date }\n",
    "            \n",
    "#                 browser.click_link_by_text('More')\n",
    "    except AttributeError as e:\n",
    "        print(e)\n",
    "    print(news)"
   ]
  },
  {
   "cell_type": "code",
   "execution_count": 6,
   "metadata": {},
   "outputs": [],
   "source": [
    "# JPL Mars Space Images - Featured Image"
   ]
  },
  {
   "cell_type": "code",
   "execution_count": 20,
   "metadata": {},
   "outputs": [],
   "source": [
    "browser.quit()"
   ]
  },
  {
   "cell_type": "code",
   "execution_count": 21,
   "metadata": {},
   "outputs": [],
   "source": [
    "executable_path = {'executable_path': 'chromedriver'}\n",
    "browser = Browser('chrome', **executable_path, headless=False)"
   ]
  },
  {
   "cell_type": "code",
   "execution_count": 22,
   "metadata": {},
   "outputs": [],
   "source": [
    "url_JPL= \"https://www.jpl.nasa.gov/spaceimages/?search=&category=Mars\""
   ]
  },
  {
   "cell_type": "code",
   "execution_count": 23,
   "metadata": {},
   "outputs": [],
   "source": [
    "browser.visit(url_JPL)"
   ]
  },
  {
   "cell_type": "code",
   "execution_count": 25,
   "metadata": {},
   "outputs": [
    {
     "name": "stdout",
     "output_type": "stream",
     "text": [
      "{'Image description': 'Harris Crater - False Color', 'Image URL': '/spaceimages/images/wallpaper/PIA23611-640x350.jpg'}\n",
      "{'Image description': 'Arabia Terra Crater - False Color', 'Image URL': '/spaceimages/images/wallpaper/PIA23600-640x350.jpg'}\n",
      "{'Image description': 'Terra Sabaea Crater - False Color', 'Image URL': '/spaceimages/images/wallpaper/PIA23599-640x350.jpg'}\n",
      "{'Image description': 'Sagan Crater - False Color', 'Image URL': '/spaceimages/images/wallpaper/PIA23598-640x350.jpg'}\n",
      "{'Image description': 'Map of NASA', 'Image URL': '/spaceimages/images/wallpaper/PIA23518-640x350.jpg'}\n",
      "{'Image description': 'Crommelin Crater - False Color', 'Image URL': '/spaceimages/images/wallpaper/PIA23597-640x350.jpg'}\n",
      "{'Image description': 'Ares Vallis Tributary - False Color', 'Image URL': '/spaceimages/images/wallpaper/PIA23596-640x350.jpg'}\n",
      "{'Image description': 'Crater Dunes', 'Image URL': '/spaceimages/images/wallpaper/PIA23580-640x350.jpg'}\n",
      "{'Image description': 'Hephaestus Fossae', 'Image URL': '/spaceimages/images/wallpaper/PIA23579-640x350.jpg'}\n",
      "{'Image description': 'Chryse Chaos', 'Image URL': '/spaceimages/images/wallpaper/PIA23578-640x350.jpg'}\n",
      "{'Image description': 'Water Ice Marked on Mars Globe (Illustration)', 'Image URL': '/spaceimages/images/wallpaper/PIA23515-640x350.jpg'}\n",
      "{'Image description': 'A Water Ice Map for Mars', 'Image URL': '/spaceimages/images/wallpaper/PIA23514-640x350.jpg'}\n",
      "{'Image description': 'Margaritifer Terra', 'Image URL': '/spaceimages/images/wallpaper/PIA23577-640x350.jpg'}\n",
      "{'Image description': 'Medusae Fossae', 'Image URL': '/spaceimages/images/wallpaper/PIA23576-640x350.jpg'}\n",
      "{'Image description': 'Ascraeus Mons', 'Image URL': '/spaceimages/images/wallpaper/PIA23575-640x350.jpg'}\n",
      "{'Image description': 'Hypanis Valles', 'Image URL': '/spaceimages/images/wallpaper/PIA23574-640x350.jpg'}\n",
      "{'Image description': 'Indus Vallis', 'Image URL': '/spaceimages/images/wallpaper/PIA23573-640x350.jpg'}\n",
      "{'Image description': 'Huo Hsing Vallis', 'Image URL': '/spaceimages/images/wallpaper/PIA23572-640x350.jpg'}\n",
      "{'Image description': 'Elysium Fossae', 'Image URL': '/spaceimages/images/wallpaper/PIA23571-640x350.jpg'}\n",
      "{'Image description': 'Maja Valles Tributary', 'Image URL': '/spaceimages/images/wallpaper/PIA23570-640x350.jpg'}\n",
      "{'Image description': 'Ophir Chasma Landslide', 'Image URL': '/spaceimages/images/wallpaper/PIA23569-640x350.jpg'}\n",
      "{'Image description': 'Both Ancient and Modern', 'Image URL': '/spaceimages/images/wallpaper/PIA23584-640x350.jpg'}\n",
      "{'Image description': 'Layered Sediments in Valles Marineris', 'Image URL': '/spaceimages/images/wallpaper/PIA23583-640x350.jpg'}\n",
      "{'Image description': 'Pits, Hollows and Viscous Flow', 'Image URL': '/spaceimages/images/wallpaper/PIA23582-640x350.jpg'}\n",
      "{'Image description': 'Polygonal Patterns Highlighted by Frost', 'Image URL': '/spaceimages/images/wallpaper/PIA23581-640x350.jpg'}\n",
      "{'Image description': 'Cerberus Fossae', 'Image URL': '/spaceimages/images/wallpaper/PIA23568-640x350.jpg'}\n",
      "{'Image description': 'A Mars Dust Tower Stands Out', 'Image URL': '/spaceimages/images/wallpaper/PIA23513-640x350.jpg'}\n",
      "{'Image description': 'Gandzani Crater', 'Image URL': '/spaceimages/images/wallpaper/PIA23567-640x350.jpg'}\n",
      "{'Image description': 'Acheron Fossae', 'Image URL': '/spaceimages/images/wallpaper/PIA23566-640x350.jpg'}\n",
      "{'Image description': 'Kasei Valles', 'Image URL': '/spaceimages/images/wallpaper/PIA23565-640x350.jpg'}\n",
      "{'Image description': 'Terra Sabaea Dune', 'Image URL': '/spaceimages/images/wallpaper/PIA23564-640x350.jpg'}\n",
      "{'Image description': 'Phlegethon Catena', 'Image URL': '/spaceimages/images/wallpaper/PIA23563-640x350.jpg'}\n",
      "'NoneType' object has no attribute 'img'\n",
      "{'Image description': 'Phlegethon Catena', 'Image URL': '/spaceimages/images/wallpaper/PIA23563-640x350.jpg'}\n",
      "'NoneType' object has no attribute 'img'\n",
      "{'Image description': 'Phlegethon Catena', 'Image URL': '/spaceimages/images/wallpaper/PIA23563-640x350.jpg'}\n",
      "'NoneType' object has no attribute 'img'\n",
      "{'Image description': 'Phlegethon Catena', 'Image URL': '/spaceimages/images/wallpaper/PIA23563-640x350.jpg'}\n",
      "'NoneType' object has no attribute 'img'\n",
      "{'Image description': 'Phlegethon Catena', 'Image URL': '/spaceimages/images/wallpaper/PIA23563-640x350.jpg'}\n",
      "'NoneType' object has no attribute 'img'\n",
      "{'Image description': 'Phlegethon Catena', 'Image URL': '/spaceimages/images/wallpaper/PIA23563-640x350.jpg'}\n"
     ]
    }
   ],
   "source": [
    "\n",
    "\n",
    "html_JPL = browser.html\n",
    "soup = BeautifulSoup(html_JPL, 'html.parser')\n",
    "\n",
    "results = soup.find_all('li', class_=\"slide\")\n",
    "\n",
    "\n",
    "\n",
    "#     Loop through returned results\n",
    "for result in results:\n",
    "# Error handling\n",
    "    try:\n",
    "    # Identify and return news title\n",
    "        featured_image_url = result.find('div', class_='img').img['src']\n",
    "#             # Identify and return paragraph text\n",
    "        featured_image_description = result.find('div', class_='img').img['title']\n",
    "#             # Identify and return date\n",
    "#             news_date = result.find('div',class_='list_date').text\n",
    "\n",
    "        # Print results only if title, price, and link are available\n",
    "        if (featured_image_url and featured_image_description ):\n",
    "            \n",
    "            JPL = {'Image description':featured_image_description, 'Image URL':featured_image_url }\n",
    "            \n",
    "\n",
    "\n",
    "\n",
    "#                 browser.click_link_by_text('More')\n",
    "    except AttributeError as e:\n",
    "        print(e)\n",
    "    \n",
    "    print(JPL)"
   ]
  },
  {
   "cell_type": "code",
   "execution_count": 12,
   "metadata": {},
   "outputs": [],
   "source": [
    "# Mars Weather twitter scrape"
   ]
  },
  {
   "cell_type": "code",
   "execution_count": 9,
   "metadata": {},
   "outputs": [],
   "source": [
    "browser.quit()"
   ]
  },
  {
   "cell_type": "code",
   "execution_count": 10,
   "metadata": {},
   "outputs": [],
   "source": [
    "executable_path = {'executable_path': 'chromedriver'}\n",
    "browser = Browser('chrome', **executable_path, headless=False)"
   ]
  },
  {
   "cell_type": "code",
   "execution_count": 11,
   "metadata": {},
   "outputs": [],
   "source": [
    "url_weather = \"https://twitter.com/marswxreport?lang=en\""
   ]
  },
  {
   "cell_type": "code",
   "execution_count": 12,
   "metadata": {},
   "outputs": [],
   "source": [
    "browser.visit(url_weather)"
   ]
  },
  {
   "cell_type": "code",
   "execution_count": 13,
   "metadata": {},
   "outputs": [],
   "source": [
    "html_weather = browser.html\n",
    "soup = BeautifulSoup(html_weather, 'html.parser')\n",
    "\n",
    "results = soup.find_all('div', class_=\"stream-container\")\n"
   ]
  },
  {
   "cell_type": "code",
   "execution_count": 14,
   "metadata": {},
   "outputs": [
    {
     "name": "stdout",
     "output_type": "stream",
     "text": [
      "{'Mars Weather': 'InSight sol 380 (2019-12-21) low -97.9ºC (-144.3ºF) high -20.6ºC (-5.0ºF)\\nwinds from the SSE at 6.3 m/s (14.1 mph) gusting to 21.5 m/s (48.2 mph)\\npressure at 6.50 hPa'}\n"
     ]
    }
   ],
   "source": [
    "#     Loop through returned results\n",
    "weather = {}\n",
    "for result in results:\n",
    "    # Error handling\n",
    "    try:\n",
    "        # Identify and return news title\n",
    "        mars_weather = result.find('p', class_=\"TweetTextSize TweetTextSize--normal js-tweet-text tweet-text\").text\n",
    "#             # Identify and return paragraph text\n",
    "#         featured_image_description = result.find('div', class_='img').img['title']\n",
    "#             # Identify and return date\n",
    "#             news_date = result.find('div',class_='list_date').text\n",
    "\n",
    "            # Print results only if title, price, and link are available\n",
    "        if (mars_weather):\n",
    "            weather = {'Mars Weather':mars_weather}\n",
    "            \n",
    "            \n",
    "#             print('Image URL:',featured_image_url)\n",
    "                \n",
    "                \n",
    "                \n",
    "#                 browser.click_link_by_text('More')\n",
    "    except AttributeError as e:\n",
    "        print(e)\n",
    "    \n",
    "    print( weather)"
   ]
  },
  {
   "cell_type": "code",
   "execution_count": 19,
   "metadata": {},
   "outputs": [],
   "source": [
    "# Mars Facts"
   ]
  },
  {
   "cell_type": "code",
   "execution_count": 20,
   "metadata": {},
   "outputs": [],
   "source": [
    "browser.quit()"
   ]
  },
  {
   "cell_type": "code",
   "execution_count": 21,
   "metadata": {},
   "outputs": [],
   "source": [
    "executable_path = {'executable_path': 'chromedriver'}\n",
    "browser = Browser('chrome', **executable_path, headless=False)"
   ]
  },
  {
   "cell_type": "code",
   "execution_count": 22,
   "metadata": {},
   "outputs": [],
   "source": [
    "url_facts = \"https://space-facts.com/mars/\""
   ]
  },
  {
   "cell_type": "code",
   "execution_count": 23,
   "metadata": {},
   "outputs": [],
   "source": [
    "browser.visit(url_facts)"
   ]
  },
  {
   "cell_type": "code",
   "execution_count": 24,
   "metadata": {},
   "outputs": [],
   "source": [
    "\n",
    "html_facts = browser.html\n",
    "soup = BeautifulSoup(html_facts, 'html.parser')\n",
    "\n",
    "results = soup.find_all(\"div\", class_=\"widget widget_text profiles\")\n"
   ]
  },
  {
   "cell_type": "code",
   "execution_count": 25,
   "metadata": {},
   "outputs": [],
   "source": [
    "#     Loop through returned results\n",
    "col_1 = []\n",
    "col_2 = []\n",
    "for result in results:\n",
    "    # Error handling\n",
    "    try:\n",
    "        td_item = result.find_all('td', class_='column-1')\n",
    "        tr_item = result.find_all('td', class_='column-2')\n",
    "\n",
    "\n",
    "#         row = [tr_item.text for tr_item in td_item]\n",
    "#         row\n",
    "        if(td_item and tr_item):\n",
    "#             print(td_item,\"  \",tr_item)\n",
    "            for el in td_item:\n",
    "               col_1.append(el.get_text())\n",
    "            for el in tr_item:\n",
    "                col_2.append(el.get_text())\n",
    "        \n",
    "    except AttributeError as e:\n",
    "        print(e)"
   ]
  },
  {
   "cell_type": "code",
   "execution_count": 26,
   "metadata": {},
   "outputs": [
    {
     "data": {
      "text/html": [
       "<div>\n",
       "<style scoped>\n",
       "    .dataframe tbody tr th:only-of-type {\n",
       "        vertical-align: middle;\n",
       "    }\n",
       "\n",
       "    .dataframe tbody tr th {\n",
       "        vertical-align: top;\n",
       "    }\n",
       "\n",
       "    .dataframe thead th {\n",
       "        text-align: right;\n",
       "    }\n",
       "</style>\n",
       "<table border=\"1\" class=\"dataframe\">\n",
       "  <thead>\n",
       "    <tr style=\"text-align: right;\">\n",
       "      <th></th>\n",
       "      <th>Description</th>\n",
       "      <th>Value</th>\n",
       "    </tr>\n",
       "  </thead>\n",
       "  <tbody>\n",
       "    <tr>\n",
       "      <th>0</th>\n",
       "      <td>Equatorial Diameter:</td>\n",
       "      <td>6,792 km</td>\n",
       "    </tr>\n",
       "    <tr>\n",
       "      <th>1</th>\n",
       "      <td>Polar Diameter:</td>\n",
       "      <td>6,752 km</td>\n",
       "    </tr>\n",
       "    <tr>\n",
       "      <th>2</th>\n",
       "      <td>Mass:</td>\n",
       "      <td>6.39 × 10^23 kg (0.11 Earths)</td>\n",
       "    </tr>\n",
       "    <tr>\n",
       "      <th>3</th>\n",
       "      <td>Moons:</td>\n",
       "      <td>2 (Phobos &amp; Deimos)</td>\n",
       "    </tr>\n",
       "    <tr>\n",
       "      <th>4</th>\n",
       "      <td>Orbit Distance:</td>\n",
       "      <td>227,943,824 km (1.38 AU)</td>\n",
       "    </tr>\n",
       "    <tr>\n",
       "      <th>5</th>\n",
       "      <td>Orbit Period:</td>\n",
       "      <td>687 days (1.9 years)</td>\n",
       "    </tr>\n",
       "    <tr>\n",
       "      <th>6</th>\n",
       "      <td>Surface Temperature:</td>\n",
       "      <td>-87 to -5 °C</td>\n",
       "    </tr>\n",
       "    <tr>\n",
       "      <th>7</th>\n",
       "      <td>First Record:</td>\n",
       "      <td>2nd millennium BC</td>\n",
       "    </tr>\n",
       "    <tr>\n",
       "      <th>8</th>\n",
       "      <td>Recorded By:</td>\n",
       "      <td>Egyptian astronomers</td>\n",
       "    </tr>\n",
       "  </tbody>\n",
       "</table>\n",
       "</div>"
      ],
      "text/plain": [
       "             Description                          Value\n",
       "0   Equatorial Diameter:                       6,792 km\n",
       "1        Polar Diameter:                       6,752 km\n",
       "2                  Mass:  6.39 × 10^23 kg (0.11 Earths)\n",
       "3                 Moons:            2 (Phobos & Deimos)\n",
       "4        Orbit Distance:       227,943,824 km (1.38 AU)\n",
       "5          Orbit Period:           687 days (1.9 years)\n",
       "6  Surface Temperature:                    -87 to -5 °C\n",
       "7          First Record:              2nd millennium BC\n",
       "8           Recorded By:           Egyptian astronomers"
      ]
     },
     "execution_count": 26,
     "metadata": {},
     "output_type": "execute_result"
    }
   ],
   "source": [
    "mars_facts_df= pd.DataFrame({'Description':col_1,'Value':col_2})\n",
    "mars_facts_df"
   ]
  },
  {
   "cell_type": "code",
   "execution_count": 27,
   "metadata": {},
   "outputs": [],
   "source": [
    "# HTML table pandas dataframe\n",
    "html_table_mars_facts = mars_facts_df.to_html()"
   ]
  },
  {
   "cell_type": "code",
   "execution_count": 28,
   "metadata": {},
   "outputs": [],
   "source": [
    "# Mars Hemispheres\n",
    "browser.quit()"
   ]
  },
  {
   "cell_type": "code",
   "execution_count": 29,
   "metadata": {},
   "outputs": [],
   "source": [
    "executable_path = {'executable_path': 'chromedriver'}\n",
    "browser = Browser('chrome', **executable_path, headless=False)"
   ]
  },
  {
   "cell_type": "code",
   "execution_count": 30,
   "metadata": {},
   "outputs": [],
   "source": [
    "url_hemispheres = \"https://astrogeology.usgs.gov/search/results?q=hemisphere+enhanced&k1=target&v1=Mars\""
   ]
  },
  {
   "cell_type": "code",
   "execution_count": 31,
   "metadata": {},
   "outputs": [],
   "source": [
    "browser.visit(url_hemispheres)"
   ]
  },
  {
   "cell_type": "code",
   "execution_count": 32,
   "metadata": {},
   "outputs": [
    {
     "data": {
      "text/plain": [
       "[<h3>Cerberus Hemisphere Enhanced</h3>,\n",
       " <h3>Schiaparelli Hemisphere Enhanced</h3>,\n",
       " <h3>Syrtis Major Hemisphere Enhanced</h3>,\n",
       " <h3>Valles Marineris Hemisphere Enhanced</h3>]"
      ]
     },
     "execution_count": 32,
     "metadata": {},
     "output_type": "execute_result"
    }
   ],
   "source": [
    "html_hemispheres = browser.html\n",
    "soup = BeautifulSoup(html_hemispheres, 'html.parser')\n",
    "\n",
    "results = soup.div.find_all(\"h3\")\n",
    "\n",
    "results"
   ]
  },
  {
   "cell_type": "code",
   "execution_count": 33,
   "metadata": {},
   "outputs": [],
   "source": [
    "hemisphere = []\n",
    "for result in results:\n",
    "    hemisphere.append(result.get_text())\n",
    "   "
   ]
  },
  {
   "cell_type": "code",
   "execution_count": 34,
   "metadata": {},
   "outputs": [
    {
     "data": {
      "text/plain": [
       "['Cerberus Hemisphere Enhanced',\n",
       " 'Schiaparelli Hemisphere Enhanced',\n",
       " 'Syrtis Major Hemisphere Enhanced',\n",
       " 'Valles Marineris Hemisphere Enhanced']"
      ]
     },
     "execution_count": 34,
     "metadata": {},
     "output_type": "execute_result"
    }
   ],
   "source": [
    "hemisphere"
   ]
  },
  {
   "cell_type": "code",
   "execution_count": 35,
   "metadata": {},
   "outputs": [],
   "source": [
    "hem_link=[]\n",
    "for i in hemisphere:\n",
    "    browser.click_link_by_partial_text(i)\n",
    "    html_hemispheres = browser.html\n",
    "    soup = BeautifulSoup(html_hemispheres, 'html.parser')\n",
    "\n",
    "    results = soup.find_all('div', class_='downloads')\n",
    "    for result in results:\n",
    "        hem_link.append(result.a['href'])\n",
    "       \n",
    "    browser.visit(url_hemispheres)\n",
    "    "
   ]
  },
  {
   "cell_type": "code",
   "execution_count": 36,
   "metadata": {},
   "outputs": [],
   "source": [
    "hemisphere_image_urls = []\n",
    "\n",
    "for i in range(len(hem_link)):\n",
    "    hemisphere_image_urls.append({\"title\": hemisphere[i], \"img_url\": hem_link[i]})\n",
    "   \n"
   ]
  },
  {
   "cell_type": "code",
   "execution_count": 37,
   "metadata": {},
   "outputs": [
    {
     "data": {
      "text/plain": [
       "[{'title': 'Cerberus Hemisphere Enhanced',\n",
       "  'img_url': 'http://astropedia.astrogeology.usgs.gov/download/Mars/Viking/cerberus_enhanced.tif/full.jpg'},\n",
       " {'title': 'Schiaparelli Hemisphere Enhanced',\n",
       "  'img_url': 'http://astropedia.astrogeology.usgs.gov/download/Mars/Viking/schiaparelli_enhanced.tif/full.jpg'},\n",
       " {'title': 'Syrtis Major Hemisphere Enhanced',\n",
       "  'img_url': 'http://astropedia.astrogeology.usgs.gov/download/Mars/Viking/syrtis_major_enhanced.tif/full.jpg'},\n",
       " {'title': 'Valles Marineris Hemisphere Enhanced',\n",
       "  'img_url': 'http://astropedia.astrogeology.usgs.gov/download/Mars/Viking/valles_marineris_enhanced.tif/full.jpg'}]"
      ]
     },
     "execution_count": 37,
     "metadata": {},
     "output_type": "execute_result"
    }
   ],
   "source": [
    "hemisphere_image_urls "
   ]
  },
  {
   "cell_type": "code",
   "execution_count": 38,
   "metadata": {},
   "outputs": [
    {
     "name": "stderr",
     "output_type": "stream",
     "text": [
      "[NbConvertApp] Converting notebook mission_to_mars.ipynb to script\n",
      "[NbConvertApp] Writing 6603 bytes to mission_to_mars.py\n"
     ]
    }
   ],
   "source": [
    "# !jupyter nbconvert --to script mission_to_mars.ipynb"
   ]
  },
  {
   "cell_type": "code",
   "execution_count": null,
   "metadata": {},
   "outputs": [],
   "source": []
  }
 ],
 "metadata": {
  "file_extension": ".py",
  "kernelspec": {
   "display_name": "Python 3",
   "language": "python",
   "name": "python3"
  },
  "language_info": {
   "codemirror_mode": {
    "name": "ipython",
    "version": 3
   },
   "file_extension": ".py",
   "mimetype": "text/x-python",
   "name": "python",
   "nbconvert_exporter": "python",
   "pygments_lexer": "ipython3",
   "version": "3.7.3"
  },
  "mimetype": "text/x-python",
  "name": "python",
  "npconvert_exporter": "python",
  "pygments_lexer": "ipython3",
  "version": 3
 },
 "nbformat": 4,
 "nbformat_minor": 2
}
